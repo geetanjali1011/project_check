{
 "cells": [
  {
   "cell_type": "markdown",
   "id": "c0b91295",
   "metadata": {},
   "source": [
    "#### How To RUN :\n",
    "\n",
    "ctrl + enter => Run the current cell and the cursor will remain on the same cell\n",
    "\n",
    "shift + enter => Run the current cell and the cursor will move to the next cell\n",
    "\n"
   ]
  },
  {
   "cell_type": "markdown",
   "id": "56a1561b",
   "metadata": {},
   "source": [
    "\n",
    "# Comment\n",
    "\n",
    "- Its the information that is written by developer to mention something about the algorithm\n",
    "- the interpreter (PVM - python virtual machine) just skip it\n",
    "- Single Line Comment --> Using # (pound)\n",
    "- Multiple Line Comment --> ''' ''' or \"\"\" \"\"\" \n",
    "\n",
    "Example -->  This is the Text Format (NOT CODE)"
   ]
  },
  {
   "cell_type": "code",
   "execution_count": 22,
   "id": "94598f05",
   "metadata": {},
   "outputs": [
    {
     "name": "stdout",
     "output_type": "stream",
     "text": [
      "Start....\n",
      "42\n",
      "Whats UP\n",
      ".. End\n"
     ]
    }
   ],
   "source": [
    "# This is just DUMMY code\n",
    "\n",
    "print('Start....')\n",
    "\n",
    "\"\"\"\n",
    "Author : Nitish\n",
    "Date - 8.7.23\n",
    "Purpose - Demonstrate use case of comment\n",
    "\"\"\"\n",
    "\n",
    "\n",
    "'''\n",
    "Author : Nitish\n",
    "Date - 8.7.23\n",
    "Purpose - Demonstrate use case of comment\n",
    "'''\n",
    "\n",
    "\n",
    "print(14 * 3)\n",
    "print(\"Whats UP\")\n",
    "\n",
    "print(\".. End\")\n",
    "\n",
    "\n",
    "\n"
   ]
  },
  {
   "cell_type": "markdown",
   "id": "2017dc95",
   "metadata": {},
   "source": [
    "## print\n",
    "\n",
    "- display to the output screen\n",
    "- SYNTAX : print()\n",
    "- OnLY in JUPYTER NOTEBOOK, last line by default prints it"
   ]
  },
  {
   "cell_type": "code",
   "execution_count": 26,
   "id": "150672c8",
   "metadata": {},
   "outputs": [
    {
     "name": "stdout",
     "output_type": "stream",
     "text": [
      "7\n",
      "True\n",
      "Message --> \n"
     ]
    },
    {
     "data": {
      "text/plain": [
       "2.8333333333333335"
      ]
     },
     "execution_count": 26,
     "metadata": {},
     "output_type": "execute_result"
    }
   ],
   "source": [
    "print(10 - 3)\n",
    "print(14 > 2)\n",
    "print(\"Message --> \")\n",
    "17 / 6"
   ]
  },
  {
   "cell_type": "code",
   "execution_count": 34,
   "id": "6b83016f",
   "metadata": {},
   "outputs": [],
   "source": [
    "10 - 3\n",
    "14 > 2\n",
    "\"Message --> \"\n",
    "17 / 6\n",
    "x = 1456\n"
   ]
  },
  {
   "cell_type": "code",
   "execution_count": null,
   "id": "248eb25a",
   "metadata": {},
   "outputs": [],
   "source": []
  },
  {
   "cell_type": "markdown",
   "id": "bc0b45a1",
   "metadata": {},
   "source": [
    "**NOTES / TIPS**\n",
    "\n",
    "type --> display the datatype of the variable\n",
    "python is a case senstive programmig language (HOUSE, house are different)\n",
    "In JUPYTER NOTEBOOK, you can get smart suggestions (reference to the variables you have created) => tab\n",
    "In JUPYTER NOTEBOOK, you can look at the SYNTAX / DocString / Documentation => shift + tab\n"
   ]
  },
  {
   "cell_type": "code",
   "execution_count": null,
   "id": "477a9540",
   "metadata": {},
   "outputs": [],
   "source": []
  },
  {
   "cell_type": "code",
   "execution_count": 93,
   "id": "4bf354e2",
   "metadata": {},
   "outputs": [],
   "source": [
    "sums = 14\n",
    "stringName = \"21415\""
   ]
  },
  {
   "cell_type": "code",
   "execution_count": null,
   "id": "9964e143",
   "metadata": {},
   "outputs": [],
   "source": []
  },
  {
   "cell_type": "markdown",
   "id": "33f9ecf6",
   "metadata": {},
   "source": [
    "# Datatypes\n",
    "\n",
    "- This is the foundation of programming language\n",
    "\n",
    "Fundamental Datatypes --> str, int, float, complex, bool\n",
    "Derived Datatypes --> list, tuple, set, dict, array\n"
   ]
  },
  {
   "cell_type": "markdown",
   "id": "d8d6fc29",
   "metadata": {},
   "source": [
    "### 1. String (str)\n",
    "\n",
    "- collection of alphabets, numbers and all other special characters\n",
    "- SINGLE LINE STRING :: write in a pair of ' ' or \" \"\n",
    "- Mutliple LINE STRING :: write in a pair of \"\"\" \"\"\" orr '''  '''\n",
    "\n"
   ]
  },
  {
   "cell_type": "code",
   "execution_count": 36,
   "id": "197da697",
   "metadata": {},
   "outputs": [
    {
     "name": "stdout",
     "output_type": "stream",
     "text": [
      "delhi\n",
      "<class 'str'>\n"
     ]
    }
   ],
   "source": [
    "word = \"delhi\"\n",
    "\n",
    "print( word )\n",
    "print( type( word ) )"
   ]
  },
  {
   "cell_type": "code",
   "execution_count": 38,
   "id": "ad518392",
   "metadata": {},
   "outputs": [
    {
     "name": "stdout",
     "output_type": "stream",
     "text": [
      "mumbai\n"
     ]
    },
    {
     "data": {
      "text/plain": [
       "str"
      ]
     },
     "execution_count": 38,
     "metadata": {},
     "output_type": "execute_result"
    }
   ],
   "source": [
    "word = 'mumbai'\n",
    "\n",
    "print( word )\n",
    "type( word ) "
   ]
  },
  {
   "cell_type": "code",
   "execution_count": 42,
   "id": "67406199",
   "metadata": {},
   "outputs": [
    {
     "name": "stdout",
     "output_type": "stream",
     "text": [
      "Dear User, \n",
      "Today is the last date to apply for application\n",
      "\n",
      "Regards\n",
      "ABC\n",
      "\n"
     ]
    },
    {
     "data": {
      "text/plain": [
       "str"
      ]
     },
     "execution_count": 42,
     "metadata": {},
     "output_type": "execute_result"
    }
   ],
   "source": [
    "message = \"\"\"Dear User, \n",
    "Today is the last date to apply for application\n",
    "\n",
    "Regards\n",
    "ABC\n",
    "\"\"\"\n",
    "\n",
    "print( message )\n",
    "type(message)"
   ]
  },
  {
   "cell_type": "code",
   "execution_count": null,
   "id": "4ef96eeb",
   "metadata": {},
   "outputs": [],
   "source": []
  },
  {
   "cell_type": "markdown",
   "id": "653bab71",
   "metadata": {},
   "source": [
    "### 2. Integer\n",
    "\n",
    "- Discrete Numbers\n"
   ]
  },
  {
   "cell_type": "code",
   "execution_count": 43,
   "id": "940a43cc",
   "metadata": {},
   "outputs": [
    {
     "name": "stdout",
     "output_type": "stream",
     "text": [
      "100 <class 'int'>\n",
      "-65 <class 'int'>\n",
      "0 <class 'int'>\n"
     ]
    }
   ],
   "source": [
    "x = 100\n",
    "y = -65\n",
    "z = 0\n",
    "\n",
    "\n",
    "print( x, type(x) )\n",
    "print( y, type(y) )\n",
    "print( z, type(z) )"
   ]
  },
  {
   "cell_type": "code",
   "execution_count": null,
   "id": "c16a0d01",
   "metadata": {},
   "outputs": [],
   "source": []
  },
  {
   "cell_type": "markdown",
   "id": "cb44ab37",
   "metadata": {},
   "source": [
    "### 3. float\n",
    "\n",
    "- Continuous Numbers\n"
   ]
  },
  {
   "cell_type": "code",
   "execution_count": 44,
   "id": "20d827ff",
   "metadata": {},
   "outputs": [
    {
     "name": "stdout",
     "output_type": "stream",
     "text": [
      "100.2 <class 'float'>\n",
      "-65.4 <class 'float'>\n",
      "0.1 <class 'float'>\n"
     ]
    }
   ],
   "source": [
    "x = 100.2\n",
    "y = -65.4\n",
    "z = 0.1\n",
    "\n",
    "\n",
    "print( x, type(x) )\n",
    "print( y, type(y) )\n",
    "print( z, type(z) )"
   ]
  },
  {
   "cell_type": "code",
   "execution_count": null,
   "id": "f2ee27e3",
   "metadata": {},
   "outputs": [],
   "source": []
  },
  {
   "cell_type": "markdown",
   "id": "dc021302",
   "metadata": {},
   "source": [
    "### 4. Complex\n",
    "\n",
    "- Real + Imaginary(j)\n",
    "- complex(real, imaginary)\n",
    "- iota ==> squareroot(-1) \n",
    "\n"
   ]
  },
  {
   "cell_type": "code",
   "execution_count": 94,
   "id": "1f6f46a6",
   "metadata": {},
   "outputs": [
    {
     "name": "stdout",
     "output_type": "stream",
     "text": [
      "(100.2+5j) <class 'complex'>\n",
      "(-0-65.4j) <class 'complex'>\n",
      "(0.1+0j) <class 'complex'>\n",
      "(10+20j) <class 'complex'>\n"
     ]
    }
   ],
   "source": [
    "x = 100.2 + 5j\n",
    "y = -65.4j\n",
    "z = 0.1 + 0j\n",
    "c = complex(10, 20)\n",
    "\n",
    "\n",
    "print( x, type(x) )\n",
    "print( y, type(y) )\n",
    "print( z, type(z) )\n",
    "print( c, type(c) )\n"
   ]
  },
  {
   "cell_type": "code",
   "execution_count": null,
   "id": "45c0d478",
   "metadata": {},
   "outputs": [],
   "source": []
  },
  {
   "cell_type": "markdown",
   "id": "4e157daf",
   "metadata": {},
   "source": [
    "### 5. boolean (bool)\n",
    "\n",
    "- True (1) and False (0)\n",
    "- Compare the values\n",
    "- Objects relation\n",
    "\n",
    "- any object having VALUE is TRUE, else FALSE\n"
   ]
  },
  {
   "cell_type": "code",
   "execution_count": 49,
   "id": "e40e06df",
   "metadata": {},
   "outputs": [
    {
     "name": "stdout",
     "output_type": "stream",
     "text": [
      "False\n",
      "True\n"
     ]
    }
   ],
   "source": [
    "print( 10 > 14 )\n",
    "print(70 < 100)"
   ]
  },
  {
   "cell_type": "code",
   "execution_count": 50,
   "id": "3c79e22a",
   "metadata": {},
   "outputs": [
    {
     "name": "stdout",
     "output_type": "stream",
     "text": [
      "False\n",
      "<class 'bool'>\n"
     ]
    }
   ],
   "source": [
    "f = False\n",
    "print(f)\n",
    "print(type(f))"
   ]
  },
  {
   "cell_type": "code",
   "execution_count": 2,
   "id": "764a620c",
   "metadata": {},
   "outputs": [
    {
     "data": {
      "text/plain": [
       "1"
      ]
     },
     "execution_count": 2,
     "metadata": {},
     "output_type": "execute_result"
    }
   ],
   "source": [
    "f = True\n",
    "int(f)"
   ]
  },
  {
   "cell_type": "code",
   "execution_count": 3,
   "id": "9b86adf6",
   "metadata": {},
   "outputs": [
    {
     "data": {
      "text/plain": [
       "0"
      ]
     },
     "execution_count": 3,
     "metadata": {},
     "output_type": "execute_result"
    }
   ],
   "source": [
    "f = False\n",
    "int(f)"
   ]
  },
  {
   "cell_type": "code",
   "execution_count": 4,
   "id": "1d3d2e84",
   "metadata": {},
   "outputs": [
    {
     "data": {
      "text/plain": [
       "True"
      ]
     },
     "execution_count": 4,
     "metadata": {},
     "output_type": "execute_result"
    }
   ],
   "source": [
    "f = 1\n",
    "bool(f)"
   ]
  },
  {
   "cell_type": "code",
   "execution_count": 5,
   "id": "e5c5bf40",
   "metadata": {},
   "outputs": [
    {
     "data": {
      "text/plain": [
       "False"
      ]
     },
     "execution_count": 5,
     "metadata": {},
     "output_type": "execute_result"
    }
   ],
   "source": [
    "f = 0\n",
    "bool(f)"
   ]
  },
  {
   "cell_type": "code",
   "execution_count": null,
   "id": "98df882e",
   "metadata": {},
   "outputs": [],
   "source": []
  },
  {
   "cell_type": "code",
   "execution_count": 7,
   "id": "aad7e062",
   "metadata": {},
   "outputs": [],
   "source": [
    "# x='one'\n",
    "# result=int(x)\n",
    "# print(result)"
   ]
  },
  {
   "cell_type": "code",
   "execution_count": null,
   "id": "c0ac2bcf",
   "metadata": {},
   "outputs": [],
   "source": []
  },
  {
   "cell_type": "code",
   "execution_count": null,
   "id": "e98457a4",
   "metadata": {},
   "outputs": [],
   "source": []
  },
  {
   "cell_type": "code",
   "execution_count": 51,
   "id": "1aa0c0ba",
   "metadata": {},
   "outputs": [
    {
     "name": "stdout",
     "output_type": "stream",
     "text": [
      "<class 'list'>\n",
      "[10, 14.4, 3j, 'Hello', False]\n"
     ]
    }
   ],
   "source": [
    "myseq = [10 , 14.4, 3j, \"Hello\", False]\n",
    "print( type(myseq) )\n",
    "print(myseq)"
   ]
  },
  {
   "cell_type": "code",
   "execution_count": 52,
   "id": "38607349",
   "metadata": {},
   "outputs": [
    {
     "name": "stdout",
     "output_type": "stream",
     "text": [
      "<class 'tuple'>\n",
      "(10, 14.4, 3j, 'Hello', False)\n"
     ]
    }
   ],
   "source": [
    "myseq = (10 , 14.4, 3j, \"Hello\", False)\n",
    "print( type(myseq) )\n",
    "print(myseq)"
   ]
  },
  {
   "cell_type": "code",
   "execution_count": 53,
   "id": "1e6aaf53",
   "metadata": {},
   "outputs": [
    {
     "name": "stdout",
     "output_type": "stream",
     "text": [
      "<class 'set'>\n",
      "{False, 'Hello', 3j, 10, 14.4}\n"
     ]
    }
   ],
   "source": [
    "myseq = {10 , 14.4, 3j, \"Hello\", False}\n",
    "print( type(myseq) )\n",
    "print(myseq)"
   ]
  },
  {
   "cell_type": "code",
   "execution_count": 54,
   "id": "b1dc8d78",
   "metadata": {},
   "outputs": [
    {
     "name": "stdout",
     "output_type": "stream",
     "text": [
      "<class 'dict'>\n",
      "{1: 100, 2: 200, 3: 300}\n"
     ]
    }
   ],
   "source": [
    "myseq = {1 : 100, 2 : 200 , 3 : 300}\n",
    "\n",
    "\n",
    "print( type(myseq) )\n",
    "print(myseq)"
   ]
  },
  {
   "cell_type": "code",
   "execution_count": null,
   "id": "97b138c4",
   "metadata": {},
   "outputs": [],
   "source": []
  },
  {
   "cell_type": "markdown",
   "id": "1c772547",
   "metadata": {},
   "source": [
    "### Tyepcasting\n",
    "\n",
    "- change the datatype of a variable to another datatype\n",
    "- SYNTAX :: DATATYPENAME(Value / Variable)"
   ]
  },
  {
   "cell_type": "code",
   "execution_count": 92,
   "id": "eedd24d9",
   "metadata": {},
   "outputs": [
    {
     "name": "stdout",
     "output_type": "stream",
     "text": [
      "100 <class 'int'>\n",
      "100.0 <class 'float'>\n"
     ]
    }
   ],
   "source": [
    "x = 100\n",
    "print(x, type(x))\n",
    "\n",
    "y = float(x)\n",
    "print(y, type(y))"
   ]
  },
  {
   "cell_type": "code",
   "execution_count": 90,
   "id": "6d9e9f41",
   "metadata": {},
   "outputs": [
    {
     "name": "stdout",
     "output_type": "stream",
     "text": [
      "(47+0j) <class 'complex'>\n"
     ]
    }
   ],
   "source": [
    "c1 = complex(47)\n",
    "print(c1, type(c1))"
   ]
  },
  {
   "cell_type": "code",
   "execution_count": 1,
   "id": "3a857466",
   "metadata": {},
   "outputs": [
    {
     "name": "stdout",
     "output_type": "stream",
     "text": [
      "200\n"
     ]
    },
    {
     "data": {
      "text/plain": [
       "200"
      ]
     },
     "execution_count": 1,
     "metadata": {},
     "output_type": "execute_result"
    }
   ],
   "source": [
    "str1 = \"200\"\n",
    "print(str1)\n",
    "result = int(str1)\n",
    "result"
   ]
  },
  {
   "cell_type": "code",
   "execution_count": 96,
   "id": "701c3197",
   "metadata": {},
   "outputs": [
    {
     "data": {
      "text/plain": [
       "88"
      ]
     },
     "execution_count": 96,
     "metadata": {},
     "output_type": "execute_result"
    }
   ],
   "source": [
    "ft = 88.25\n",
    "result = int(ft)\n",
    "result"
   ]
  },
  {
   "attachments": {
    "image.png": {
     "image/png": "[encoded data removed]"
    }
   },
   "cell_type": "markdown",
   "id": "740586af",
   "metadata": {},
   "source": [
    "![image.png](attachment:image.png)"
   ]
  },
  {
   "cell_type": "code",
   "execution_count": 12,
   "id": "5f47e807",
   "metadata": {},
   "outputs": [
    {
     "ename": "TypeError",
     "evalue": "'str' object is not callable",
     "output_type": "error",
     "traceback": [
      "\u001b[1;31m---------------------------------------------------------------------------\u001b[0m",
      "\u001b[1;31mTypeError\u001b[0m                                 Traceback (most recent call last)",
      "\u001b[1;32m~\\AppData\\Local\\Temp\\ipykernel_18864\\2182574381.py\u001b[0m in \u001b[0;36m<module>\u001b[1;34m\u001b[0m\n\u001b[0;32m      1\u001b[0m \u001b[0mff\u001b[0m \u001b[1;33m=\u001b[0m \u001b[1;32mFalse\u001b[0m\u001b[1;33m\u001b[0m\u001b[1;33m\u001b[0m\u001b[0m\n\u001b[1;32m----> 2\u001b[1;33m \u001b[0mresult\u001b[0m \u001b[1;33m=\u001b[0m \u001b[0mstr\u001b[0m\u001b[1;33m(\u001b[0m\u001b[0mff\u001b[0m\u001b[1;33m)\u001b[0m \u001b[1;31m# 200(144)\u001b[0m\u001b[1;33m\u001b[0m\u001b[1;33m\u001b[0m\u001b[0m\n\u001b[0m\u001b[0;32m      3\u001b[0m \u001b[0mresult\u001b[0m\u001b[1;33m\u001b[0m\u001b[1;33m\u001b[0m\u001b[0m\n",
      "\u001b[1;31mTypeError\u001b[0m: 'str' object is not callable"
     ]
    }
   ],
   "source": [
    "ff = False\n",
    "result = str(ff) # 200(144)\n",
    "result"
   ]
  },
  {
   "cell_type": "code",
   "execution_count": 101,
   "id": "b9bbde21",
   "metadata": {},
   "outputs": [
    {
     "data": {
      "text/plain": [
       "14"
      ]
     },
     "execution_count": 101,
     "metadata": {},
     "output_type": "execute_result"
    }
   ],
   "source": [
    "ff = 14.25\n",
    "result = int(ff)\n",
    "result"
   ]
  },
  {
   "cell_type": "code",
   "execution_count": 4,
   "id": "56e8b2cb",
   "metadata": {},
   "outputs": [
    {
     "data": {
      "text/plain": [
       "258745987"
      ]
     },
     "execution_count": 4,
     "metadata": {},
     "output_type": "execute_result"
    }
   ],
   "source": [
    "print1= 258745987\n",
    "print1"
   ]
  },
  {
   "cell_type": "code",
   "execution_count": 5,
   "id": "2dea537d",
   "metadata": {},
   "outputs": [
    {
     "name": "stdout",
     "output_type": "stream",
     "text": [
      "False\n"
     ]
    }
   ],
   "source": [
    "print(14 > 14)"
   ]
  },
  {
   "cell_type": "code",
   "execution_count": 7,
   "id": "7166d939",
   "metadata": {},
   "outputs": [
    {
     "data": {
      "text/plain": [
       "14.25"
      ]
     },
     "execution_count": 7,
     "metadata": {},
     "output_type": "execute_result"
    }
   ],
   "source": [
    "float('14.25')"
   ]
  },
  {
   "cell_type": "code",
   "execution_count": null,
   "id": "6d5656d1",
   "metadata": {},
   "outputs": [],
   "source": []
  },
  {
   "cell_type": "code",
   "execution_count": null,
   "id": "567edce2",
   "metadata": {},
   "outputs": [],
   "source": []
  },
  {
   "cell_type": "code",
   "execution_count": null,
   "id": "5887ca9c",
   "metadata": {},
   "outputs": [],
   "source": []
  },
  {
   "cell_type": "code",
   "execution_count": null,
   "id": "c41dc4f7",
   "metadata": {},
   "outputs": [],
   "source": []
  },
  {
   "cell_type": "markdown",
   "id": "0b790955",
   "metadata": {},
   "source": [
    "## Variables"
   ]
  },
  {
   "cell_type": "code",
   "execution_count": 59,
   "id": "e01f459a",
   "metadata": {},
   "outputs": [
    {
     "name": "stdout",
     "output_type": "stream",
     "text": [
      "480\n",
      "76.80000000000001\n"
     ]
    }
   ],
   "source": [
    "# petrol cost\n",
    "# total liters\n",
    "\n",
    "\n",
    "print(96 * 5) #total cost\n",
    "print(96 * 0.8) # density\n"
   ]
  },
  {
   "cell_type": "code",
   "execution_count": 61,
   "id": "c6c61eb8",
   "metadata": {},
   "outputs": [
    {
     "name": "stdout",
     "output_type": "stream",
     "text": [
      "500\n",
      "70.0\n"
     ]
    }
   ],
   "source": [
    "print(100 * 5)  #total cost\n",
    "print(100 * 0.7) # density"
   ]
  },
  {
   "cell_type": "code",
   "execution_count": 63,
   "id": "9cebf085",
   "metadata": {},
   "outputs": [
    {
     "name": "stdout",
     "output_type": "stream",
     "text": [
      "500\n",
      "70.0\n"
     ]
    }
   ],
   "source": [
    "petrolCost = 100\n",
    "total_liters = 5\n",
    "density = 0.7\n",
    "\n",
    "print(petrolCost * total_liters)\n",
    "print(petrolCost * density)\n"
   ]
  },
  {
   "cell_type": "markdown",
   "id": "ff272dd6",
   "metadata": {},
   "source": [
    "### Variable Rules"
   ]
  },
  {
   "cell_type": "code",
   "execution_count": 65,
   "id": "67055ba0",
   "metadata": {},
   "outputs": [
    {
     "name": "stdout",
     "output_type": "stream",
     "text": [
      "1\n",
      "1\n",
      "1\n"
     ]
    }
   ],
   "source": [
    "# 1. variable can be of any length\n",
    "# use a name that defines the meaning of the code\n",
    "\n",
    "x = 1\n",
    "myFirstVariable = 1\n",
    "cdyujkhgfdtyjbvcdfghjmnbvfgh41684254hgfdftyujkjbvcft = 1\n",
    "\n",
    "print(x)\n",
    "print(myFirstVariable)\n",
    "print(cdyujkhgfdtyjbvcdfghjmnbvfgh41684254hgfdftyujkjbvcft)\n",
    "\n"
   ]
  },
  {
   "cell_type": "code",
   "execution_count": 68,
   "id": "1f638fca",
   "metadata": {},
   "outputs": [
    {
     "name": "stdout",
     "output_type": "stream",
     "text": [
      "delhi\n",
      "pune\n",
      "jaipur\n"
     ]
    }
   ],
   "source": [
    "# 2. it shall contain letters, numbers or _\n",
    "\n",
    "place = 'delhi'\n",
    "place_new = \"pune\"\n",
    "place100 = 'jaipur'\n",
    "\n",
    "print(place)\n",
    "print(place_new)\n",
    "print(place100)\n"
   ]
  },
  {
   "cell_type": "code",
   "execution_count": 76,
   "id": "f2bc2bba",
   "metadata": {},
   "outputs": [
    {
     "name": "stdout",
     "output_type": "stream",
     "text": [
      "delhi\n",
      "pune\n"
     ]
    }
   ],
   "source": [
    "# 3. variable names shall not start with numbers\n",
    "\n",
    "place = 'delhi'\n",
    "_NewPlace = \"pune\"\n",
    "# 100place = 'jaipur'\n",
    "_6P = 341  # this will work\n",
    "\n",
    "print(place)\n",
    "print(_NewPlace)\n",
    "\n"
   ]
  },
  {
   "cell_type": "code",
   "execution_count": 80,
   "id": "ac9544ef",
   "metadata": {},
   "outputs": [],
   "source": [
    "# 4. No Spcial characters are allowed\n",
    "# !@#$%^&*()}{\":L>/*-+~\"}\n",
    "\n",
    "# place$p = 284\n",
    "# place@5678 = 284\n"
   ]
  },
  {
   "cell_type": "code",
   "execution_count": 10,
   "id": "6d7074d2",
   "metadata": {},
   "outputs": [
    {
     "name": "stdout",
     "output_type": "stream",
     "text": [
      "['False', 'None', 'True', '__peg_parser__', 'and', 'as', 'assert', 'async', 'await', 'break', 'class', 'continue', 'def', 'del', 'elif', 'else', 'except', 'finally', 'for', 'from', 'global', 'if', 'import', 'in', 'is', 'lambda', 'nonlocal', 'not', 'or', 'pass', 'raise', 'return', 'try', 'while', 'with', 'yield']\n"
     ]
    }
   ],
   "source": [
    "# 5. No Keywords are allowed\n",
    "\n",
    "# if = 2411\n",
    "# for = 5698741\n",
    "# False = 8741\n",
    "\n",
    "import keyword\n",
    "print( keyword.kwlist )\n",
    "\n",
    "# is = 144"
   ]
  },
  {
   "cell_type": "code",
   "execution_count": null,
   "id": "38922b00",
   "metadata": {},
   "outputs": [],
   "source": []
  },
  {
   "cell_type": "code",
   "execution_count": null,
   "id": "b6127efb",
   "metadata": {},
   "outputs": [],
   "source": []
  },
  {
   "cell_type": "markdown",
   "id": "0bdd6757",
   "metadata": {},
   "source": [
    "## Operators"
   ]
  },
  {
   "cell_type": "markdown",
   "id": "918d66bf",
   "metadata": {},
   "source": [
    "#### 1. Airthmetic\n",
    "\n",
    "/ * - + ** // %"
   ]
  },
  {
   "cell_type": "code",
   "execution_count": 8,
   "id": "6683b93e",
   "metadata": {},
   "outputs": [
    {
     "name": "stdout",
     "output_type": "stream",
     "text": [
      "42\n",
      "58\n",
      "400\n",
      "6.25\n"
     ]
    }
   ],
   "source": [
    "print( 50 - 8 )\n",
    "print( 50 + 8 )\n",
    "print( 50 * 8 )\n",
    "print( 50 / 8 )\n"
   ]
  },
  {
   "cell_type": "code",
   "execution_count": 12,
   "id": "93b64b99",
   "metadata": {},
   "outputs": [
    {
     "name": "stdout",
     "output_type": "stream",
     "text": [
      "8\n",
      "10.0\n"
     ]
    }
   ],
   "source": [
    "print( 2 ** 3 ) # Power\n",
    "print(100   **   0.5) # Power"
   ]
  },
  {
   "cell_type": "code",
   "execution_count": 13,
   "id": "a69c6a18",
   "metadata": {},
   "outputs": [
    {
     "name": "stdout",
     "output_type": "stream",
     "text": [
      "6.25\n"
     ]
    }
   ],
   "source": [
    "print( 50 / 8 ) # division :: 6 * 8 + 2"
   ]
  },
  {
   "cell_type": "code",
   "execution_count": 14,
   "id": "3a4c1fc4",
   "metadata": {},
   "outputs": [
    {
     "name": "stdout",
     "output_type": "stream",
     "text": [
      "2\n"
     ]
    }
   ],
   "source": [
    "# remainder (%) Modulus\n",
    "print( 50 % 8 )"
   ]
  },
  {
   "cell_type": "code",
   "execution_count": 15,
   "id": "b62c5e45",
   "metadata": {},
   "outputs": [
    {
     "name": "stdout",
     "output_type": "stream",
     "text": [
      "6\n"
     ]
    }
   ],
   "source": [
    "# quotient (//) floor division or integer division\n",
    "print( 50 // 8 ) "
   ]
  },
  {
   "cell_type": "code",
   "execution_count": 16,
   "id": "0eca43d6",
   "metadata": {},
   "outputs": [
    {
     "name": "stdout",
     "output_type": "stream",
     "text": [
      "6\n",
      "6\n",
      "6\n",
      "6\n",
      "6\n",
      "6\n",
      "6\n"
     ]
    }
   ],
   "source": [
    "print( 49 // 8 )\n",
    "print( 50 // 8 )\n",
    "print( 51 // 8 )\n",
    "print( 52 // 8 )\n",
    "print( 53 // 8 )\n",
    "print( 54 // 8 )\n",
    "print( 55 // 8 )\n"
   ]
  },
  {
   "cell_type": "code",
   "execution_count": 27,
   "id": "2e3a3c07",
   "metadata": {},
   "outputs": [
    {
     "name": "stdout",
     "output_type": "stream",
     "text": [
      "6.125\n",
      "6.25\n",
      "6.375\n",
      "6.5\n",
      "6.625\n",
      "6.75\n",
      "6.875\n"
     ]
    }
   ],
   "source": [
    "print( 49 / 8 )\n",
    "print( 50 / 8 )\n",
    "print( 51 / 8 )\n",
    "print( 52 / 8 )\n",
    "print( 53 / 8 )\n",
    "print( 54 / 8 )\n",
    "print( 55 / 8 )\n"
   ]
  },
  {
   "cell_type": "code",
   "execution_count": 28,
   "id": "b9e8daf7",
   "metadata": {},
   "outputs": [
    {
     "name": "stdout",
     "output_type": "stream",
     "text": [
      "6\n",
      "6\n",
      "6\n",
      "6\n",
      "6\n",
      "6\n",
      "6\n"
     ]
    }
   ],
   "source": [
    "print( int( 49 / 8)  )\n",
    "print( int( 50 / 8 ) )\n",
    "print( int( 51 / 8 ) )\n",
    "print( int( 52 / 8 ) )\n",
    "print( int( 53 / 8 ) )\n",
    "print( int( 54 / 8 ) )\n",
    "print( int( 55 / 8 ) )\n"
   ]
  },
  {
   "cell_type": "code",
   "execution_count": 18,
   "id": "b2962730",
   "metadata": {},
   "outputs": [],
   "source": [
    "import math"
   ]
  },
  {
   "cell_type": "code",
   "execution_count": 25,
   "id": "35d744af",
   "metadata": {},
   "outputs": [
    {
     "data": {
      "text/plain": [
       "8"
      ]
     },
     "execution_count": 25,
     "metadata": {},
     "output_type": "execute_result"
    }
   ],
   "source": [
    "math.floor(8.2) # floor will give a integer before that continuous number"
   ]
  },
  {
   "cell_type": "code",
   "execution_count": 26,
   "id": "b7996227",
   "metadata": {},
   "outputs": [
    {
     "data": {
      "text/plain": [
       "9"
      ]
     },
     "execution_count": 26,
     "metadata": {},
     "output_type": "execute_result"
    }
   ],
   "source": [
    "math.ceil(8.2) # ceil will give a integer after that continuous number\n"
   ]
  },
  {
   "cell_type": "code",
   "execution_count": null,
   "id": "c162417d",
   "metadata": {},
   "outputs": [],
   "source": [
    "8 < 8.2543 < 9"
   ]
  },
  {
   "cell_type": "code",
   "execution_count": null,
   "id": "be7c2c38",
   "metadata": {},
   "outputs": [],
   "source": []
  },
  {
   "cell_type": "markdown",
   "id": "993001c3",
   "metadata": {},
   "source": [
    "#### 2. Comparison / Relational\n",
    "\n",
    "< > <= >= == !=\n",
    "\n",
    "return Boolean based on expression ( 14 > 10 )"
   ]
  },
  {
   "cell_type": "code",
   "execution_count": 29,
   "id": "08c18ffa",
   "metadata": {},
   "outputs": [
    {
     "name": "stdout",
     "output_type": "stream",
     "text": [
      "True\n"
     ]
    }
   ],
   "source": [
    "print( 14 > 10 )"
   ]
  },
  {
   "cell_type": "code",
   "execution_count": 31,
   "id": "b24d2e60",
   "metadata": {},
   "outputs": [
    {
     "name": "stdout",
     "output_type": "stream",
     "text": [
      "False\n"
     ]
    }
   ],
   "source": [
    "print( 14 <= 10 )"
   ]
  },
  {
   "cell_type": "code",
   "execution_count": 34,
   "id": "1f36d572",
   "metadata": {},
   "outputs": [
    {
     "name": "stdout",
     "output_type": "stream",
     "text": [
      "False\n"
     ]
    }
   ],
   "source": [
    "print( 14 == 10 ) # is 14 equal to 10"
   ]
  },
  {
   "cell_type": "code",
   "execution_count": 35,
   "id": "7af09193",
   "metadata": {},
   "outputs": [
    {
     "name": "stdout",
     "output_type": "stream",
     "text": [
      "True\n"
     ]
    }
   ],
   "source": [
    "print( 14 != 10 ) # 14 is not equal to 10"
   ]
  },
  {
   "cell_type": "code",
   "execution_count": 36,
   "id": "f9e0f8f9",
   "metadata": {},
   "outputs": [
    {
     "name": "stdout",
     "output_type": "stream",
     "text": [
      "False\n"
     ]
    }
   ],
   "source": [
    "print( \"a\" > \"c\" )"
   ]
  },
  {
   "cell_type": "code",
   "execution_count": 37,
   "id": "0a5eb40d",
   "metadata": {},
   "outputs": [
    {
     "name": "stdout",
     "output_type": "stream",
     "text": [
      "False\n"
     ]
    }
   ],
   "source": [
    "print( \"a\" == \"A\" )"
   ]
  },
  {
   "cell_type": "code",
   "execution_count": 40,
   "id": "4ac1572c",
   "metadata": {},
   "outputs": [
    {
     "name": "stdout",
     "output_type": "stream",
     "text": [
      "False\n"
     ]
    }
   ],
   "source": [
    "print( 'jeva' < \"java\" ) # je  and ja"
   ]
  },
  {
   "cell_type": "code",
   "execution_count": null,
   "id": "20cb41ec",
   "metadata": {},
   "outputs": [],
   "source": []
  },
  {
   "cell_type": "markdown",
   "id": "2221a101",
   "metadata": {},
   "source": [
    "#### 3. Assignment\n",
    "\n",
    "=\n",
    "\n",
    "assign a value to the variable\n",
    "\n",
    "variables are on LHS of = and values are on RHS of ="
   ]
  },
  {
   "cell_type": "code",
   "execution_count": 41,
   "id": "8019982a",
   "metadata": {},
   "outputs": [
    {
     "ename": "SyntaxError",
     "evalue": "cannot assign to literal (535151422.py, line 3)",
     "output_type": "error",
     "traceback": [
      "\u001b[1;36m  File \u001b[1;32m\"C:\\Users\\Nitish\\AppData\\Local\\Temp\\ipykernel_28948\\535151422.py\"\u001b[1;36m, line \u001b[1;32m3\u001b[0m\n\u001b[1;33m    50 = z\u001b[0m\n\u001b[1;37m    ^\u001b[0m\n\u001b[1;31mSyntaxError\u001b[0m\u001b[1;31m:\u001b[0m cannot assign to literal\n"
     ]
    }
   ],
   "source": [
    "x = 100\n",
    "y = 82\n",
    "# 50 = z"
   ]
  },
  {
   "cell_type": "code",
   "execution_count": null,
   "id": "4bf1b483",
   "metadata": {},
   "outputs": [],
   "source": []
  },
  {
   "cell_type": "markdown",
   "id": "c0e80282",
   "metadata": {},
   "source": [
    "#### 4. Logical\n",
    "\n",
    "and (&)\n",
    "\n",
    "or  (|)\n",
    "\n",
    "not (~) \n"
   ]
  },
  {
   "cell_type": "markdown",
   "id": "dd5bd195",
   "metadata": {},
   "source": [
    "AND ==> return TRUE if all the expressions are TRUE, else FALSE\n",
    "\n",
    "Expression_1  Expression_2  Output\n",
    "True          True          TRUE\n",
    "False          True         False\n",
    "True          False         False\n",
    "False          False        False"
   ]
  },
  {
   "cell_type": "code",
   "execution_count": 42,
   "id": "6cc9f3ef",
   "metadata": {},
   "outputs": [
    {
     "name": "stdout",
     "output_type": "stream",
     "text": [
      "False\n",
      "False\n",
      "False\n",
      "True\n"
     ]
    }
   ],
   "source": [
    "print( ( 100 < 80 ) and ( 5 != 5 )   )  #F  and F\n",
    "print( ( 100 < 80 ) and ( 5 == 5 )   )  # F and T\n",
    "print( ( 100 > 80 ) and ( 5 != 5 )   )  # T and F\n",
    "print( ( 100 > 80 ) and ( 5 == 5 )   ) # T and T"
   ]
  },
  {
   "cell_type": "code",
   "execution_count": null,
   "id": "777218b6",
   "metadata": {},
   "outputs": [],
   "source": []
  },
  {
   "cell_type": "markdown",
   "id": "c04d261e",
   "metadata": {},
   "source": [
    "OR ==> return FALSE if all the expressions are FALSE, else TRUE\n",
    "\n",
    "Expression_1  Expression_2  Output\n",
    "True          True          TRUE\n",
    "False          True         TRUE\n",
    "True          False         TRUE\n",
    "False          False        False"
   ]
  },
  {
   "cell_type": "code",
   "execution_count": 45,
   "id": "3b13ce70",
   "metadata": {},
   "outputs": [
    {
     "name": "stdout",
     "output_type": "stream",
     "text": [
      "False\n",
      "True\n",
      "True\n",
      "True\n"
     ]
    }
   ],
   "source": [
    "print( ( 100 < 80 ) or ( 5 != 5 )   )  #F  or F\n",
    "print( ( 100 < 80 ) or ( 5 == 5 )   )  # F or T\n",
    "print( ( 100 > 80 ) or ( 5 != 5 )   )  # T or F\n",
    "print( ( 100 > 80 ) or ( 5 == 5 )   ) # T or T"
   ]
  },
  {
   "cell_type": "markdown",
   "id": "517f974b",
   "metadata": {},
   "source": [
    "NOT : \n",
    "\n",
    "return TRUE, if the expression is False and vice versa"
   ]
  },
  {
   "cell_type": "code",
   "execution_count": 46,
   "id": "edd879d8",
   "metadata": {},
   "outputs": [
    {
     "data": {
      "text/plain": [
       "True"
      ]
     },
     "execution_count": 46,
     "metadata": {},
     "output_type": "execute_result"
    }
   ],
   "source": [
    "not( 5 != 5 )"
   ]
  },
  {
   "cell_type": "code",
   "execution_count": 47,
   "id": "104a955b",
   "metadata": {},
   "outputs": [
    {
     "data": {
      "text/plain": [
       "False"
      ]
     },
     "execution_count": 47,
     "metadata": {},
     "output_type": "execute_result"
    }
   ],
   "source": [
    "5 != 5 "
   ]
  },
  {
   "cell_type": "code",
   "execution_count": null,
   "id": "022a9841",
   "metadata": {},
   "outputs": [],
   "source": []
  },
  {
   "cell_type": "markdown",
   "id": "696798d6",
   "metadata": {},
   "source": [
    "#### 5. Membership (in, not in)\n",
    "\n",
    "in\n",
    "- return TRUE if element (pattern) is present inside the sequence\n",
    "\n",
    "not in\n",
    "- return FASLE if element (pattern) is present inside the sequence\n"
   ]
  },
  {
   "cell_type": "code",
   "execution_count": 52,
   "id": "0b61500b",
   "metadata": {},
   "outputs": [],
   "source": [
    "stringName = \"python is an amazing language\""
   ]
  },
  {
   "cell_type": "code",
   "execution_count": 53,
   "id": "37b553ea",
   "metadata": {},
   "outputs": [
    {
     "name": "stdout",
     "output_type": "stream",
     "text": [
      "True\n"
     ]
    }
   ],
   "source": [
    "print( \"an\" in stringName )"
   ]
  },
  {
   "cell_type": "code",
   "execution_count": 54,
   "id": "c367cd86",
   "metadata": {},
   "outputs": [
    {
     "name": "stdout",
     "output_type": "stream",
     "text": [
      "False\n"
     ]
    }
   ],
   "source": [
    "print( \"P\" in stringName )"
   ]
  },
  {
   "cell_type": "code",
   "execution_count": 55,
   "id": "52c15ee7",
   "metadata": {},
   "outputs": [
    {
     "name": "stdout",
     "output_type": "stream",
     "text": [
      "<class 'list'>\n",
      "[10, 14.4, 3j, 'Hello', False]\n"
     ]
    }
   ],
   "source": [
    "myseq = [10 , 14.4, 3j, \"Hello\", False]\n",
    "print( type(myseq) )\n",
    "print(myseq)"
   ]
  },
  {
   "cell_type": "code",
   "execution_count": 56,
   "id": "eb6850c4",
   "metadata": {},
   "outputs": [
    {
     "data": {
      "text/plain": [
       "False"
      ]
     },
     "execution_count": 56,
     "metadata": {},
     "output_type": "execute_result"
    }
   ],
   "source": [
    "True in myseq"
   ]
  },
  {
   "cell_type": "code",
   "execution_count": 57,
   "id": "7c2a057b",
   "metadata": {},
   "outputs": [
    {
     "data": {
      "text/plain": [
       "True"
      ]
     },
     "execution_count": 57,
     "metadata": {},
     "output_type": "execute_result"
    }
   ],
   "source": [
    "False in myseq"
   ]
  },
  {
   "cell_type": "code",
   "execution_count": 58,
   "id": "3401a26c",
   "metadata": {},
   "outputs": [
    {
     "name": "stdout",
     "output_type": "stream",
     "text": [
      "<class 'list'>\n",
      "[10, 14.4, 3j, 'Hello', False]\n",
      "True\n"
     ]
    }
   ],
   "source": [
    "myseq = [10 , 14.4, 3j, \"Hello\", False]\n",
    "print( type(myseq) )\n",
    "print(myseq)\n",
    "\n",
    "print( 1 not in myseq )\n"
   ]
  },
  {
   "cell_type": "code",
   "execution_count": null,
   "id": "684d5750",
   "metadata": {},
   "outputs": [],
   "source": []
  },
  {
   "cell_type": "markdown",
   "id": "8caa2bc6",
   "metadata": {},
   "source": [
    "#### 6. id()\n",
    "\n",
    "return memeory location of the object\n",
    "\n",
    "<!-- functions, eumerate, map, filter, class, list copy, lambda -->\n"
   ]
  },
  {
   "cell_type": "code",
   "execution_count": 59,
   "id": "6888e0d8",
   "metadata": {},
   "outputs": [
    {
     "data": {
      "text/plain": [
       "1512740842064"
      ]
     },
     "execution_count": 59,
     "metadata": {},
     "output_type": "execute_result"
    }
   ],
   "source": [
    "x = 10\n",
    "id(x)"
   ]
  },
  {
   "cell_type": "code",
   "execution_count": 60,
   "id": "18f6c5c9",
   "metadata": {},
   "outputs": [
    {
     "data": {
      "text/plain": [
       "1512858281968"
      ]
     },
     "execution_count": 60,
     "metadata": {},
     "output_type": "execute_result"
    }
   ],
   "source": [
    "x = 10.5\n",
    "id(x)"
   ]
  },
  {
   "cell_type": "code",
   "execution_count": null,
   "id": "8e07b500",
   "metadata": {},
   "outputs": [],
   "source": []
  },
  {
   "cell_type": "markdown",
   "id": "385f44c5",
   "metadata": {},
   "source": [
    "#### 7. Bitwise operator\n",
    "\n",
    "- Mircroprocessor and microcontorller\n",
    "\n",
    "<< >> ~ & |  ^"
   ]
  },
  {
   "cell_type": "markdown",
   "id": "aaf8ea9e",
   "metadata": {},
   "source": [
    "Bitwise and\n",
    "& ==> return TRUE if all the bits are 1, else 0\n",
    "\n",
    "Expression_1  Expression_2  Output\n",
    "1               1            1\n",
    "1                0           0\n",
    "0               1            0\n",
    "0               0             0"
   ]
  },
  {
   "cell_type": "code",
   "execution_count": 61,
   "id": "31c52dc6",
   "metadata": {},
   "outputs": [
    {
     "data": {
      "text/plain": [
       "10"
      ]
     },
     "execution_count": 61,
     "metadata": {},
     "output_type": "execute_result"
    }
   ],
   "source": [
    "10 & 30"
   ]
  },
  {
   "cell_type": "code",
   "execution_count": 62,
   "id": "b13c137f",
   "metadata": {},
   "outputs": [
    {
     "name": "stdout",
     "output_type": "stream",
     "text": [
      "0b1010\n",
      "0b11110\n"
     ]
    }
   ],
   "source": [
    "print( bin(10) )\n",
    "print( bin(30) )\n"
   ]
  },
  {
   "cell_type": "code",
   "execution_count": null,
   "id": "a2552d33",
   "metadata": {},
   "outputs": [],
   "source": [
    "0 1 0 1 0\n",
    "1 1 1 1 0\n",
    "\n",
    "0 1 0 1 0"
   ]
  },
  {
   "cell_type": "code",
   "execution_count": 63,
   "id": "cfeb02e6",
   "metadata": {},
   "outputs": [
    {
     "data": {
      "text/plain": [
       "10"
      ]
     },
     "execution_count": 63,
     "metadata": {},
     "output_type": "execute_result"
    }
   ],
   "source": [
    "int(0b01010)"
   ]
  },
  {
   "cell_type": "code",
   "execution_count": null,
   "id": "6da18263",
   "metadata": {},
   "outputs": [],
   "source": []
  },
  {
   "cell_type": "code",
   "execution_count": null,
   "id": "4b89c43d",
   "metadata": {},
   "outputs": [],
   "source": []
  },
  {
   "cell_type": "markdown",
   "id": "94472271",
   "metadata": {},
   "source": [
    "Bitwise or\n",
    "\n",
    "| ==> return 0 if all the bits are 0, else 1\n",
    "\n",
    "Expression_1  Expression_2  Output\n",
    "1               1            1\n",
    "1                0           1\n",
    "0               1            1\n",
    "0               0             0"
   ]
  },
  {
   "cell_type": "code",
   "execution_count": 65,
   "id": "cac36e0b",
   "metadata": {},
   "outputs": [
    {
     "data": {
      "text/plain": [
       "30"
      ]
     },
     "execution_count": 65,
     "metadata": {},
     "output_type": "execute_result"
    }
   ],
   "source": [
    "10  | 30"
   ]
  },
  {
   "cell_type": "code",
   "execution_count": 62,
   "id": "ed0737aa",
   "metadata": {},
   "outputs": [
    {
     "name": "stdout",
     "output_type": "stream",
     "text": [
      "0b1010\n",
      "0b11110\n"
     ]
    }
   ],
   "source": [
    "print( bin(10) )\n",
    "print( bin(30) )\n"
   ]
  },
  {
   "cell_type": "code",
   "execution_count": null,
   "id": "df323f10",
   "metadata": {},
   "outputs": [],
   "source": [
    "0 1 0 1 0\n",
    "1 1 1 1 0\n",
    "\n",
    "1 1 1 1 0"
   ]
  },
  {
   "cell_type": "code",
   "execution_count": 64,
   "id": "3e9247b4",
   "metadata": {},
   "outputs": [
    {
     "data": {
      "text/plain": [
       "30"
      ]
     },
     "execution_count": 64,
     "metadata": {},
     "output_type": "execute_result"
    }
   ],
   "source": [
    "int(0b11110)"
   ]
  },
  {
   "cell_type": "code",
   "execution_count": null,
   "id": "060da591",
   "metadata": {},
   "outputs": [],
   "source": []
  },
  {
   "cell_type": "markdown",
   "id": "3f6a907c",
   "metadata": {},
   "source": [
    "Bitwise XOR\n",
    "\n",
    "^ ==> return 0 if same bits are there, else 1\n",
    "\n",
    "Expression_1  Expression_2  Output\n",
    "1               1            0\n",
    "1                0           1\n",
    "0               1            1\n",
    "0               0             0"
   ]
  },
  {
   "cell_type": "code",
   "execution_count": 66,
   "id": "8b4a0963",
   "metadata": {},
   "outputs": [
    {
     "data": {
      "text/plain": [
       "20"
      ]
     },
     "execution_count": 66,
     "metadata": {},
     "output_type": "execute_result"
    }
   ],
   "source": [
    "10  ^ 30"
   ]
  },
  {
   "cell_type": "code",
   "execution_count": 62,
   "id": "79612618",
   "metadata": {},
   "outputs": [
    {
     "name": "stdout",
     "output_type": "stream",
     "text": [
      "0b1010\n",
      "0b11110\n"
     ]
    }
   ],
   "source": [
    "print( bin(10) )\n",
    "print( bin(30) )\n"
   ]
  },
  {
   "cell_type": "code",
   "execution_count": null,
   "id": "d17bba3e",
   "metadata": {},
   "outputs": [],
   "source": [
    "0 1 0 1 0\n",
    "1 1 1 1 0\n",
    "\n",
    "1 0 1 0 0"
   ]
  },
  {
   "cell_type": "code",
   "execution_count": 67,
   "id": "6d9c475f",
   "metadata": {},
   "outputs": [
    {
     "data": {
      "text/plain": [
       "20"
      ]
     },
     "execution_count": 67,
     "metadata": {},
     "output_type": "execute_result"
    }
   ],
   "source": [
    "int(0b10100)"
   ]
  },
  {
   "cell_type": "markdown",
   "id": "83677732",
   "metadata": {},
   "source": [
    "#### Bitwise 2's compliment\n",
    "\n",
    "~(number) = -(number + 1)\n"
   ]
  },
  {
   "cell_type": "code",
   "execution_count": 68,
   "id": "d9a61f75",
   "metadata": {},
   "outputs": [
    {
     "data": {
      "text/plain": [
       "-13"
      ]
     },
     "execution_count": 68,
     "metadata": {},
     "output_type": "execute_result"
    }
   ],
   "source": [
    "~(12)"
   ]
  },
  {
   "cell_type": "code",
   "execution_count": null,
   "id": "889fd23f",
   "metadata": {},
   "outputs": [],
   "source": [
    "# 1010\n",
    "\n",
    "# 0101\n",
    "# + 0001"
   ]
  },
  {
   "cell_type": "code",
   "execution_count": null,
   "id": "f39d23ce",
   "metadata": {},
   "outputs": [],
   "source": []
  },
  {
   "cell_type": "markdown",
   "id": "7c247330",
   "metadata": {},
   "source": [
    "#### Bitwise left shift\n",
    "\n",
    "number << n\n",
    "number << CountOf_bits\n",
    "\n",
    "\n",
    "steps : \n",
    "\n",
    "1. given an expression (100 << 10), get the binary format for number (100 : 1100100)\n",
    "2. convert that binary format to 32bit configuration (100 : 00000000000000000000000001100100)\n",
    "3. Delete the n-bits (10) from the left. after deleting ( 0000000000000001100100) \n",
    "4. Insertt n-bits (10) 0's to the right ( 00000000000000011001000000000000)\n",
    "5. Generate the integer value for that number (102400)\n",
    "\n"
   ]
  },
  {
   "cell_type": "code",
   "execution_count": 69,
   "id": "785c561b",
   "metadata": {},
   "outputs": [
    {
     "data": {
      "text/plain": [
       "102400"
      ]
     },
     "execution_count": 69,
     "metadata": {},
     "output_type": "execute_result"
    }
   ],
   "source": [
    "100 << 10 # 1"
   ]
  },
  {
   "cell_type": "code",
   "execution_count": 70,
   "id": "faef3871",
   "metadata": {},
   "outputs": [
    {
     "data": {
      "text/plain": [
       "'0b1100100'"
      ]
     },
     "execution_count": 70,
     "metadata": {},
     "output_type": "execute_result"
    }
   ],
   "source": [
    "bin(100) # 1"
   ]
  },
  {
   "cell_type": "code",
   "execution_count": 71,
   "id": "5cb9c035",
   "metadata": {},
   "outputs": [
    {
     "name": "stdout",
     "output_type": "stream",
     "text": [
      "7\n"
     ]
    }
   ],
   "source": [
    "print( len( \"1100100\" ) )  # 2"
   ]
  },
  {
   "cell_type": "code",
   "execution_count": 75,
   "id": "b95f650f",
   "metadata": {},
   "outputs": [
    {
     "name": "stdout",
     "output_type": "stream",
     "text": [
      "32\n"
     ]
    }
   ],
   "source": [
    "print( len( \"00000000000000000000000001100100\" ) )  # 2"
   ]
  },
  {
   "cell_type": "code",
   "execution_count": null,
   "id": "c089df85",
   "metadata": {},
   "outputs": [],
   "source": [
    "# 0b00000000000000000000000001100100 # 2"
   ]
  },
  {
   "cell_type": "code",
   "execution_count": null,
   "id": "5b5e48aa",
   "metadata": {},
   "outputs": [],
   "source": [
    "# 0000000000000001100100  # 3"
   ]
  },
  {
   "cell_type": "code",
   "execution_count": null,
   "id": "8b4adc3c",
   "metadata": {},
   "outputs": [],
   "source": [
    "00000000000000011001000000000000 # 4"
   ]
  },
  {
   "cell_type": "code",
   "execution_count": 76,
   "id": "d8af6e78",
   "metadata": {},
   "outputs": [
    {
     "data": {
      "text/plain": [
       "102400"
      ]
     },
     "execution_count": 76,
     "metadata": {},
     "output_type": "execute_result"
    }
   ],
   "source": [
    "int( 0b00000000000000011001000000000000 )"
   ]
  },
  {
   "cell_type": "markdown",
   "id": "03e74cdb",
   "metadata": {},
   "source": [
    "#### Bitwise right shift\n",
    "\n",
    "number >> n\n",
    "number >> CountOf_bits\n",
    "\n",
    "\n",
    "steps : \n",
    "\n",
    "1. given an expression (100 >> 10), get the binary format for number (100 : 1100100)\n",
    "2. convert that binary format to 32bit configuration (100 : 00000000000000000000000001100100)\n",
    "3. Delete the n-bits (10) from the right. after deleting ( 0000000000000000000000) \n",
    "4. Insertt n-bits (10) 0's to the left ( 000000000000000000000000000000000)\n",
    "5. Generate the integer value for that number (0)\n",
    "\n"
   ]
  },
  {
   "cell_type": "code",
   "execution_count": null,
   "id": "b796c789",
   "metadata": {},
   "outputs": [],
   "source": [
    "print( len( \"0000000000000000000000\" ) )  # 2"
   ]
  },
  {
   "cell_type": "code",
   "execution_count": 77,
   "id": "eecd1d1b",
   "metadata": {},
   "outputs": [
    {
     "data": {
      "text/plain": [
       "0"
      ]
     },
     "execution_count": 77,
     "metadata": {},
     "output_type": "execute_result"
    }
   ],
   "source": [
    "int( 0b000000000000000000000000000000000 )"
   ]
  },
  {
   "cell_type": "code",
   "execution_count": 78,
   "id": "67606a22",
   "metadata": {},
   "outputs": [
    {
     "data": {
      "text/plain": [
       "0"
      ]
     },
     "execution_count": 78,
     "metadata": {},
     "output_type": "execute_result"
    }
   ],
   "source": [
    "100 >> 10"
   ]
  },
  {
   "cell_type": "code",
   "execution_count": null,
   "id": "c94c2023",
   "metadata": {},
   "outputs": [],
   "source": []
  },
  {
   "cell_type": "markdown",
   "id": "9aca285b",
   "metadata": {},
   "source": [
    "## Print\n",
    "\n",
    "- displays to the output screen\n",
    "- use , to seperate the arguments to display Multiple arguments to the output screen (if you want, you can  use sep)\n",
    "- end is used between prints\n"
   ]
  },
  {
   "cell_type": "code",
   "execution_count": 80,
   "id": "70ba71e3",
   "metadata": {},
   "outputs": [
    {
     "name": "stdout",
     "output_type": "stream",
     "text": [
      "joy\n",
      "False\n",
      "84\n"
     ]
    }
   ],
   "source": [
    "print(\"joy\")\n",
    "print(14 < 10)\n",
    "print(14 * 6)"
   ]
  },
  {
   "cell_type": "code",
   "execution_count": 81,
   "id": "8a2bcd33",
   "metadata": {},
   "outputs": [
    {
     "name": "stdout",
     "output_type": "stream",
     "text": [
      "joy False 84\n"
     ]
    }
   ],
   "source": [
    "print(\"joy\", 14 < 10, 14 * 6)"
   ]
  },
  {
   "cell_type": "code",
   "execution_count": 82,
   "id": "d30656e0",
   "metadata": {},
   "outputs": [
    {
     "name": "stdout",
     "output_type": "stream",
     "text": [
      "Name of the employee =>  Nitish\n"
     ]
    }
   ],
   "source": [
    "name = \"Nitish\"\n",
    "print(\"Name of the employee => \", name)"
   ]
  },
  {
   "cell_type": "code",
   "execution_count": null,
   "id": "58db645b",
   "metadata": {},
   "outputs": [],
   "source": []
  },
  {
   "cell_type": "code",
   "execution_count": 86,
   "id": "97d2c8e6",
   "metadata": {},
   "outputs": [
    {
     "name": "stdout",
     "output_type": "stream",
     "text": [
      "joy\n",
      "False\n",
      "84\n"
     ]
    }
   ],
   "source": [
    "# end = \"\\n\" # Next Line # above python 3.__\n",
    "\n",
    "print(\"joy\")\n",
    "\n",
    "name = \"Nitish\"\n",
    "\n",
    "print(14 < 10)\n",
    "\n",
    "age = 31\n",
    "\n",
    "print(14 * 6)"
   ]
  },
  {
   "cell_type": "code",
   "execution_count": 88,
   "id": "0de1ccf8",
   "metadata": {},
   "outputs": [
    {
     "name": "stdout",
     "output_type": "stream",
     "text": [
      "joy False 84\n"
     ]
    }
   ],
   "source": [
    "# end = \"  \"\n",
    "\n",
    "print(\"joy\", end = \" \")\n",
    "\n",
    "name = \"Nitish\"\n",
    "\n",
    "print(14 < 10, end = \" \")\n",
    "\n",
    "age = 31\n",
    "\n",
    "print(14 * 6)"
   ]
  },
  {
   "cell_type": "code",
   "execution_count": null,
   "id": "af8bf28a",
   "metadata": {},
   "outputs": [],
   "source": []
  },
  {
   "cell_type": "code",
   "execution_count": 90,
   "id": "184d0452",
   "metadata": {},
   "outputs": [
    {
     "name": "stdout",
     "output_type": "stream",
     "text": [
      "joy False 84\n"
     ]
    }
   ],
   "source": [
    "# sep = \" \"  # it works with displaying multiple args\n",
    "\n",
    "print(\"joy\",14 < 10,14 * 6)"
   ]
  },
  {
   "cell_type": "code",
   "execution_count": 91,
   "id": "f3e51727",
   "metadata": {},
   "outputs": [
    {
     "name": "stdout",
     "output_type": "stream",
     "text": [
      "joy**False**84\n"
     ]
    }
   ],
   "source": [
    "print(\"joy\",14 < 10,14 * 6, sep = \"**\")"
   ]
  },
  {
   "cell_type": "code",
   "execution_count": 92,
   "id": "b6786461",
   "metadata": {},
   "outputs": [
    {
     "name": "stdout",
     "output_type": "stream",
     "text": [
      "joy  ---  False  ---  84\n"
     ]
    }
   ],
   "source": [
    "print(\"joy\",14 < 10,14 * 6, sep = \"  ---  \")"
   ]
  },
  {
   "cell_type": "code",
   "execution_count": 2,
   "id": "2708d7c8",
   "metadata": {},
   "outputs": [
    {
     "name": "stdout",
     "output_type": "stream",
     "text": [
      "Nitish Vig\n"
     ]
    }
   ],
   "source": [
    "## Escape Sequences\n",
    "\n",
    "stringName = \"Nitish Vig\"\n",
    "print( stringName )\n"
   ]
  },
  {
   "cell_type": "code",
   "execution_count": 4,
   "id": "20d68939",
   "metadata": {},
   "outputs": [
    {
     "name": "stdout",
     "output_type": "stream",
     "text": [
      "Nitish \t\t\t Vig\n"
     ]
    }
   ],
   "source": [
    "## Escape Sequences\n",
    "\n",
    "stringName = \"Nitish \\t\\t\\t Vig\"\n",
    "print( stringName )\n"
   ]
  },
  {
   "cell_type": "code",
   "execution_count": 9,
   "id": "1cd066fc",
   "metadata": {},
   "outputs": [
    {
     "name": "stdout",
     "output_type": "stream",
     "text": [
      "Nitish \n",
      " Vig\n"
     ]
    }
   ],
   "source": [
    "## Escape Sequences\n",
    "\n",
    "stringName = \"Nitish \\n Vig\"\n",
    "print( stringName )\n"
   ]
  },
  {
   "cell_type": "code",
   "execution_count": 6,
   "id": "b0e4dcae",
   "metadata": {},
   "outputs": [
    {
     "name": "stdout",
     "output_type": "stream",
     "text": [
      "Dear User, \n",
      "Today is the last date to apply for application \n",
      "\n",
      "Regards \n",
      "ABC\n"
     ]
    },
    {
     "data": {
      "text/plain": [
       "str"
      ]
     },
     "execution_count": 6,
     "metadata": {},
     "output_type": "execute_result"
    }
   ],
   "source": [
    "message = \"Dear User, \\nToday is the last date to apply for application \\n\\nRegards \\nABC\"\n",
    "\n",
    "print( message )\n",
    "type(message)"
   ]
  },
  {
   "cell_type": "code",
   "execution_count": 7,
   "id": "7156b047",
   "metadata": {},
   "outputs": [
    {
     "name": "stdout",
     "output_type": "stream",
     "text": [
      "Dear User, \n",
      "Today is the last date to apply for application\n",
      "\n",
      "Regards\n",
      "ABC\n",
      "\n"
     ]
    },
    {
     "data": {
      "text/plain": [
       "str"
      ]
     },
     "execution_count": 7,
     "metadata": {},
     "output_type": "execute_result"
    }
   ],
   "source": [
    "message = \"\"\"Dear User, \n",
    "Today is the last date to apply for application\n",
    "\n",
    "Regards\n",
    "ABC\n",
    "\"\"\"\n",
    "\n",
    "print( message )\n",
    "type(message)"
   ]
  },
  {
   "cell_type": "code",
   "execution_count": null,
   "id": "d6c0ff9d",
   "metadata": {},
   "outputs": [],
   "source": []
  },
  {
   "cell_type": "markdown",
   "id": "111c4f56",
   "metadata": {},
   "source": [
    "## Input\n",
    "\n",
    "- takes the value from the user\n",
    "- default datatype format is str"
   ]
  },
  {
   "cell_type": "code",
   "execution_count": 1,
   "id": "94f5c2d1",
   "metadata": {},
   "outputs": [
    {
     "name": "stdout",
     "output_type": "stream",
     "text": [
      "Mention Name : Nitish\n",
      "Name given ==>  Nitish\n"
     ]
    }
   ],
   "source": [
    "name = input(\"Mention Name : \")\n",
    "print(\"Name given ==> \", name)\n",
    "\n",
    "age = input(\"Age : \")\n",
    "print(\"Given AGE is,\", age)\n",
    "\n",
    "\n",
    "salary = input(\"Salary : \")\n",
    "print(\"SALARY\", salary)\n"
   ]
  },
  {
   "cell_type": "code",
   "execution_count": 2,
   "id": "681d489c",
   "metadata": {},
   "outputs": [
    {
     "name": "stdout",
     "output_type": "stream",
     "text": [
      "True\n"
     ]
    }
   ],
   "source": [
    "print(14 > 10)"
   ]
  },
  {
   "cell_type": "code",
   "execution_count": 3,
   "id": "dbe99560",
   "metadata": {},
   "outputs": [
    {
     "name": "stdout",
     "output_type": "stream",
     "text": [
      "Hello World\n"
     ]
    }
   ],
   "source": [
    "print(\"Hello World\")"
   ]
  },
  {
   "cell_type": "code",
   "execution_count": null,
   "id": "a2807957",
   "metadata": {},
   "outputs": [],
   "source": []
  },
  {
   "cell_type": "code",
   "execution_count": 9,
   "id": "2b5866ee",
   "metadata": {},
   "outputs": [
    {
     "name": "stdout",
     "output_type": "stream",
     "text": [
      "Purpose of the Program is to take your data...\n",
      "Mention your Name : \n",
      "Nitish\n",
      "\n",
      "Name given ==>  Nitish\n",
      "\n",
      "Write your Age : 31\n",
      "Given AGE is, 31\n",
      "MAke sure you write Salary in $format : 255.25\n",
      "SALARY 255.25\n"
     ]
    }
   ],
   "source": [
    "\n",
    "\n",
    "print('Purpose of the Program is to take your data...')\n",
    "\n",
    "name = input(\"Mention your Name : \\n\")\n",
    "print(\"\\nName given ==> \", name)\n",
    "print() # end = \"\\n\"\n",
    "\n",
    "age = input(\"Write your Age : \")\n",
    "age = int(age) # \"31\"\n",
    "print(\"Given AGE is,\", age)\n",
    "\n",
    "\n",
    "salary = float( input(\"MAke sure you write Salary in $format : \") )\n",
    "print(\"SALARY\", salary)\n"
   ]
  },
  {
   "cell_type": "code",
   "execution_count": null,
   "id": "a77c05b4",
   "metadata": {},
   "outputs": [],
   "source": []
  },
  {
   "cell_type": "code",
   "execution_count": 5,
   "id": "aca955d3",
   "metadata": {},
   "outputs": [
    {
     "ename": "TypeError",
     "evalue": "can't multiply sequence by non-int of type 'float'",
     "output_type": "error",
     "traceback": [
      "\u001b[1;31m---------------------------------------------------------------------------\u001b[0m",
      "\u001b[1;31mTypeError\u001b[0m                                 Traceback (most recent call last)",
      "\u001b[1;32m~\\AppData\\Local\\Temp\\ipykernel_2756\\2129478268.py\u001b[0m in \u001b[0;36m<module>\u001b[1;34m\u001b[0m\n\u001b[1;32m----> 1\u001b[1;33m \u001b[0msalary\u001b[0m \u001b[1;33m=\u001b[0m \u001b[0msalary\u001b[0m \u001b[1;33m+\u001b[0m \u001b[0msalary\u001b[0m \u001b[1;33m*\u001b[0m \u001b[1;36m0.1\u001b[0m\u001b[1;33m\u001b[0m\u001b[1;33m\u001b[0m\u001b[0m\n\u001b[0m\u001b[0;32m      2\u001b[0m \u001b[0msalary\u001b[0m\u001b[1;33m\u001b[0m\u001b[1;33m\u001b[0m\u001b[0m\n",
      "\u001b[1;31mTypeError\u001b[0m: can't multiply sequence by non-int of type 'float'"
     ]
    }
   ],
   "source": [
    "salary = salary + salary * 0.1\n",
    "salary"
   ]
  },
  {
   "cell_type": "code",
   "execution_count": 10,
   "id": "83982c38",
   "metadata": {},
   "outputs": [
    {
     "name": "stdout",
     "output_type": "stream",
     "text": [
      "<class 'str'>\n",
      "<class 'int'>\n",
      "<class 'float'>\n"
     ]
    }
   ],
   "source": [
    "print( type(name) )\n",
    "print( type(age) )\n",
    "print( type(salary) )\n"
   ]
  },
  {
   "cell_type": "code",
   "execution_count": null,
   "id": "2c6ee6c9",
   "metadata": {},
   "outputs": [],
   "source": []
  },
  {
   "cell_type": "code",
   "execution_count": null,
   "id": "728a0e24",
   "metadata": {},
   "outputs": [],
   "source": []
  },
  {
   "cell_type": "code",
   "execution_count": null,
   "id": "5f221bd2",
   "metadata": {},
   "outputs": [],
   "source": []
  },
  {
   "cell_type": "code",
   "execution_count": null,
   "id": "b5ca73a1",
   "metadata": {},
   "outputs": [],
   "source": []
  },
  {
   "cell_type": "code",
   "execution_count": null,
   "id": "84d88f14",
   "metadata": {},
   "outputs": [],
   "source": []
  },
  {
   "cell_type": "code",
   "execution_count": null,
   "id": "1a56c104",
   "metadata": {},
   "outputs": [],
   "source": []
  }
 ],
 "metadata": {
  "kernelspec": {
   "display_name": "Python 3 (ipykernel)",
   "language": "python",
   "name": "python3"
  },
  "language_info": {
   "codemirror_mode": {
    "name": "ipython",
    "version": 3
   },
   "file_extension": ".py",
   "mimetype": "text/x-python",
   "name": "python",
   "nbconvert_exporter": "python",
   "pygments_lexer": "ipython3",
   "version": "3.9.13"
  }
 },
 "nbformat": 4,
 "nbformat_minor": 5
}
